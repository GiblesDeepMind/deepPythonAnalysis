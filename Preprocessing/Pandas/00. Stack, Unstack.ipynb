{
 "cells": [
  {
   "cell_type": "markdown",
   "metadata": {},
   "source": [
    "[미디엄 참조페이지](https://medium.com/swlh/reshaping-in-pandas-with-stack-and-unstack-functions-bb169f64467d#id_token=eyJhbGciOiJSUzI1NiIsImtpZCI6ImVlYTFiMWY0MjgwN2E4Y2MxMzZhMDNhM2MxNmQyOWRiODI5NmRhZjAiLCJ0eXAiOiJKV1QifQ.eyJpc3MiOiJodHRwczovL2FjY291bnRzLmdvb2dsZS5jb20iLCJuYmYiOjE2MTE2MTM2NTksImF1ZCI6IjIxNjI5NjAzNTgzNC1rMWs2cWUwNjBzMnRwMmEyamFtNGxqZGNtczAwc3R0Zy5hcHBzLmdvb2dsZXVzZXJjb250ZW50LmNvbSIsInN1YiI6IjExNDg0MDQyODcwOTI3NjI2NTYwMiIsImVtYWlsIjoiZWhkYWxzMTMyM0BnbWFpbC5jb20iLCJlbWFpbF92ZXJpZmllZCI6dHJ1ZSwiYXpwIjoiMjE2Mjk2MDM1ODM0LWsxazZxZTA2MHMydHAyYTJqYW00bGpkY21zMDBzdHRnLmFwcHMuZ29vZ2xldXNlcmNvbnRlbnQuY29tIiwibmFtZSI6IkRPTkdNSU4gQ0hPIiwicGljdHVyZSI6Imh0dHBzOi8vbGgzLmdvb2dsZXVzZXJjb250ZW50LmNvbS9hLS9BT2gxNEdoS3lYdEQ4QUhndEtDQi1iRC02Q3I1Wnh3MlZQOV9QMXNrT3FqeW5BPXM5Ni1jIiwiZ2l2ZW5fbmFtZSI6IkRPTkdNSU4iLCJmYW1pbHlfbmFtZSI6IkNITyIsImlhdCI6MTYxMTYxMzk1OSwiZXhwIjoxNjExNjE3NTU5LCJqdGkiOiI3Yjk1ODBhMjVkOWQ3YzMwMzNkNzc2YWU2ZmQyYWFjZGJmMGJiZTNjIn0.EFXyI2pj8w4lpglSwcAUpwbkIs5zuVunTmOTsOZ-Z2mNpr_VP-Wra1Trj-nmRg6WlOyk-U7D47_iJ-aAGcMBUxa_PNoCcc7ZRfcexhfoWbyP5m0Stg3vZOY-aPoU6vq1RmUJvySkiFYxmQtdfz01X9N4C9MZv10HDQcaom3BWHIe18GdvjTUqgDUYEQmGiJGMDKT6zjD1FmcCuhP68pd2ov0LGRoZw1xtmDKyuHbN3uMHo-zIZr6STPRmQkZ63kbQvNaltid_NDXr7pwRGHhbUiTy4wHtYcjjDq2dTszNInkqraN4kAuT1Uk1Np57zPX4UaU17h3X6zGNzqsjzRkQg)\n",
    "\n",
    "[판다스공홈](https://pandas.pydata.org/pandas-docs/stable/reference/api/pandas.DataFrame.stack.html)"
   ]
  },
  {
   "cell_type": "markdown",
   "metadata": {},
   "source": [
    "**요약**\n",
    "\n",
    "* Stack : Column을 Row로 펴는것\n",
    "* Unstack : Row를 Column으로 펴는 것"
   ]
  },
  {
   "cell_type": "code",
   "execution_count": 2,
   "metadata": {
    "ExecuteTime": {
     "end_time": "2021-01-25T22:37:47.595891Z",
     "start_time": "2021-01-25T22:37:46.598770Z"
    }
   },
   "outputs": [],
   "source": [
    "import numpy as np\n",
    "import pandas as pd"
   ]
  },
  {
   "cell_type": "markdown",
   "metadata": {},
   "source": [
    "# Stack"
   ]
  },
  {
   "cell_type": "markdown",
   "metadata": {},
   "source": [
    "## Single Index"
   ]
  },
  {
   "cell_type": "code",
   "execution_count": 3,
   "metadata": {
    "ExecuteTime": {
     "end_time": "2021-01-25T22:37:48.375249Z",
     "start_time": "2021-01-25T22:37:48.350283Z"
    }
   },
   "outputs": [
    {
     "data": {
      "text/html": [
       "<div>\n",
       "<style scoped>\n",
       "    .dataframe tbody tr th:only-of-type {\n",
       "        vertical-align: middle;\n",
       "    }\n",
       "\n",
       "    .dataframe tbody tr th {\n",
       "        vertical-align: top;\n",
       "    }\n",
       "\n",
       "    .dataframe thead th {\n",
       "        text-align: right;\n",
       "    }\n",
       "</style>\n",
       "<table border=\"1\" class=\"dataframe\">\n",
       "  <thead>\n",
       "    <tr style=\"text-align: right;\">\n",
       "      <th></th>\n",
       "      <th>조</th>\n",
       "      <th>김</th>\n",
       "      <th>이</th>\n",
       "    </tr>\n",
       "  </thead>\n",
       "  <tbody>\n",
       "    <tr>\n",
       "      <th>이름</th>\n",
       "      <td>동민</td>\n",
       "      <td>철수</td>\n",
       "      <td>영희</td>\n",
       "    </tr>\n",
       "    <tr>\n",
       "      <th>키</th>\n",
       "      <td>176</td>\n",
       "      <td>173</td>\n",
       "      <td>160</td>\n",
       "    </tr>\n",
       "  </tbody>\n",
       "</table>\n",
       "</div>"
      ],
      "text/plain": [
       "      조    김    이\n",
       "이름   동민   철수   영희\n",
       "키   176  173  160"
      ]
     },
     "execution_count": 3,
     "metadata": {},
     "output_type": "execute_result"
    }
   ],
   "source": [
    "sample = pd.DataFrame([['동민', '철수', '영희'], [176, 173, 160]],\n",
    "                     index=['이름', '키'], columns=['조', '김', '이'])\n",
    "sample"
   ]
  },
  {
   "cell_type": "markdown",
   "metadata": {},
   "source": [
    "stack!"
   ]
  },
  {
   "cell_type": "code",
   "execution_count": 5,
   "metadata": {
    "ExecuteTime": {
     "end_time": "2021-01-25T22:38:06.696482Z",
     "start_time": "2021-01-25T22:38:06.687508Z"
    }
   },
   "outputs": [
    {
     "data": {
      "text/html": [
       "<div>\n",
       "<style scoped>\n",
       "    .dataframe tbody tr th:only-of-type {\n",
       "        vertical-align: middle;\n",
       "    }\n",
       "\n",
       "    .dataframe tbody tr th {\n",
       "        vertical-align: top;\n",
       "    }\n",
       "\n",
       "    .dataframe thead th {\n",
       "        text-align: right;\n",
       "    }\n",
       "</style>\n",
       "<table border=\"1\" class=\"dataframe\">\n",
       "  <thead>\n",
       "    <tr style=\"text-align: right;\">\n",
       "      <th></th>\n",
       "      <th>level_0</th>\n",
       "      <th>level_1</th>\n",
       "      <th>0</th>\n",
       "    </tr>\n",
       "  </thead>\n",
       "  <tbody>\n",
       "    <tr>\n",
       "      <th>0</th>\n",
       "      <td>이름</td>\n",
       "      <td>조</td>\n",
       "      <td>동민</td>\n",
       "    </tr>\n",
       "    <tr>\n",
       "      <th>1</th>\n",
       "      <td>이름</td>\n",
       "      <td>김</td>\n",
       "      <td>철수</td>\n",
       "    </tr>\n",
       "    <tr>\n",
       "      <th>2</th>\n",
       "      <td>이름</td>\n",
       "      <td>이</td>\n",
       "      <td>영희</td>\n",
       "    </tr>\n",
       "    <tr>\n",
       "      <th>3</th>\n",
       "      <td>키</td>\n",
       "      <td>조</td>\n",
       "      <td>176</td>\n",
       "    </tr>\n",
       "    <tr>\n",
       "      <th>4</th>\n",
       "      <td>키</td>\n",
       "      <td>김</td>\n",
       "      <td>173</td>\n",
       "    </tr>\n",
       "    <tr>\n",
       "      <th>5</th>\n",
       "      <td>키</td>\n",
       "      <td>이</td>\n",
       "      <td>160</td>\n",
       "    </tr>\n",
       "  </tbody>\n",
       "</table>\n",
       "</div>"
      ],
      "text/plain": [
       "  level_0 level_1    0\n",
       "0      이름       조   동민\n",
       "1      이름       김   철수\n",
       "2      이름       이   영희\n",
       "3       키       조  176\n",
       "4       키       김  173\n",
       "5       키       이  160"
      ]
     },
     "execution_count": 5,
     "metadata": {},
     "output_type": "execute_result"
    }
   ],
   "source": [
    "sample.stack().reset_index()"
   ]
  },
  {
   "cell_type": "markdown",
   "metadata": {},
   "source": [
    "## Multi Index"
   ]
  },
  {
   "cell_type": "code",
   "execution_count": 8,
   "metadata": {
    "ExecuteTime": {
     "end_time": "2021-01-25T22:42:47.274339Z",
     "start_time": "2021-01-25T22:42:47.269352Z"
    }
   },
   "outputs": [],
   "source": [
    "#lv0의 컬럼 이름이 달라야지 다르게 남는다.\n",
    "col_lv2 = pd.MultiIndex.from_tuples([('돈1', '달러'), ('돈2', '원화')])"
   ]
  },
  {
   "cell_type": "code",
   "execution_count": 9,
   "metadata": {
    "ExecuteTime": {
     "end_time": "2021-01-25T22:42:47.658917Z",
     "start_time": "2021-01-25T22:42:47.650937Z"
    }
   },
   "outputs": [
    {
     "data": {
      "text/html": [
       "<div>\n",
       "<style scoped>\n",
       "    .dataframe tbody tr th:only-of-type {\n",
       "        vertical-align: middle;\n",
       "    }\n",
       "\n",
       "    .dataframe tbody tr th {\n",
       "        vertical-align: top;\n",
       "    }\n",
       "\n",
       "    .dataframe thead tr th {\n",
       "        text-align: left;\n",
       "    }\n",
       "</style>\n",
       "<table border=\"1\" class=\"dataframe\">\n",
       "  <thead>\n",
       "    <tr>\n",
       "      <th></th>\n",
       "      <th>돈1</th>\n",
       "      <th>돈2</th>\n",
       "    </tr>\n",
       "    <tr>\n",
       "      <th></th>\n",
       "      <th>달러</th>\n",
       "      <th>원화</th>\n",
       "    </tr>\n",
       "  </thead>\n",
       "  <tbody>\n",
       "    <tr>\n",
       "      <th>금액</th>\n",
       "      <td>10</td>\n",
       "      <td>11000</td>\n",
       "    </tr>\n",
       "    <tr>\n",
       "      <th>이름</th>\n",
       "      <td>동민</td>\n",
       "      <td>철수</td>\n",
       "    </tr>\n",
       "  </tbody>\n",
       "</table>\n",
       "</div>"
      ],
      "text/plain": [
       "    돈1     돈2\n",
       "    달러     원화\n",
       "금액  10  11000\n",
       "이름  동민     철수"
      ]
     },
     "execution_count": 9,
     "metadata": {},
     "output_type": "execute_result"
    }
   ],
   "source": [
    "sample_lv2 = pd.DataFrame([[10, 11000], ['동민', '철수']], index=['금액', '이름']\n",
    "                          ,columns=col_lv2)\n",
    "sample_lv2"
   ]
  },
  {
   "cell_type": "code",
   "execution_count": 10,
   "metadata": {
    "ExecuteTime": {
     "end_time": "2021-01-25T22:43:21.269859Z",
     "start_time": "2021-01-25T22:43:21.245838Z"
    }
   },
   "outputs": [
    {
     "data": {
      "text/html": [
       "<div>\n",
       "<style scoped>\n",
       "    .dataframe tbody tr th:only-of-type {\n",
       "        vertical-align: middle;\n",
       "    }\n",
       "\n",
       "    .dataframe tbody tr th {\n",
       "        vertical-align: top;\n",
       "    }\n",
       "\n",
       "    .dataframe thead th {\n",
       "        text-align: right;\n",
       "    }\n",
       "</style>\n",
       "<table border=\"1\" class=\"dataframe\">\n",
       "  <thead>\n",
       "    <tr style=\"text-align: right;\">\n",
       "      <th></th>\n",
       "      <th>level_0</th>\n",
       "      <th>level_1</th>\n",
       "      <th>돈1</th>\n",
       "      <th>돈2</th>\n",
       "    </tr>\n",
       "  </thead>\n",
       "  <tbody>\n",
       "    <tr>\n",
       "      <th>0</th>\n",
       "      <td>금액</td>\n",
       "      <td>달러</td>\n",
       "      <td>10</td>\n",
       "      <td>NaN</td>\n",
       "    </tr>\n",
       "    <tr>\n",
       "      <th>1</th>\n",
       "      <td>금액</td>\n",
       "      <td>원화</td>\n",
       "      <td>NaN</td>\n",
       "      <td>11000</td>\n",
       "    </tr>\n",
       "    <tr>\n",
       "      <th>2</th>\n",
       "      <td>이름</td>\n",
       "      <td>달러</td>\n",
       "      <td>동민</td>\n",
       "      <td>NaN</td>\n",
       "    </tr>\n",
       "    <tr>\n",
       "      <th>3</th>\n",
       "      <td>이름</td>\n",
       "      <td>원화</td>\n",
       "      <td>NaN</td>\n",
       "      <td>철수</td>\n",
       "    </tr>\n",
       "  </tbody>\n",
       "</table>\n",
       "</div>"
      ],
      "text/plain": [
       "  level_0 level_1   돈1     돈2\n",
       "0      금액      달러   10    NaN\n",
       "1      금액      원화  NaN  11000\n",
       "2      이름      달러   동민    NaN\n",
       "3      이름      원화  NaN     철수"
      ]
     },
     "execution_count": 10,
     "metadata": {},
     "output_type": "execute_result"
    }
   ],
   "source": [
    "sample_lv2.stack().reset_index()"
   ]
  },
  {
   "cell_type": "code",
   "execution_count": 11,
   "metadata": {
    "ExecuteTime": {
     "end_time": "2021-01-25T22:43:49.332964Z",
     "start_time": "2021-01-25T22:43:49.318977Z"
    }
   },
   "outputs": [
    {
     "data": {
      "text/html": [
       "<div>\n",
       "<style scoped>\n",
       "    .dataframe tbody tr th:only-of-type {\n",
       "        vertical-align: middle;\n",
       "    }\n",
       "\n",
       "    .dataframe tbody tr th {\n",
       "        vertical-align: top;\n",
       "    }\n",
       "\n",
       "    .dataframe thead th {\n",
       "        text-align: right;\n",
       "    }\n",
       "</style>\n",
       "<table border=\"1\" class=\"dataframe\">\n",
       "  <thead>\n",
       "    <tr style=\"text-align: right;\">\n",
       "      <th></th>\n",
       "      <th>level_0</th>\n",
       "      <th>level_1</th>\n",
       "      <th>level_2</th>\n",
       "      <th>0</th>\n",
       "    </tr>\n",
       "  </thead>\n",
       "  <tbody>\n",
       "    <tr>\n",
       "      <th>0</th>\n",
       "      <td>금액</td>\n",
       "      <td>달러</td>\n",
       "      <td>돈1</td>\n",
       "      <td>10</td>\n",
       "    </tr>\n",
       "    <tr>\n",
       "      <th>1</th>\n",
       "      <td>금액</td>\n",
       "      <td>원화</td>\n",
       "      <td>돈2</td>\n",
       "      <td>11000</td>\n",
       "    </tr>\n",
       "    <tr>\n",
       "      <th>2</th>\n",
       "      <td>이름</td>\n",
       "      <td>달러</td>\n",
       "      <td>돈1</td>\n",
       "      <td>동민</td>\n",
       "    </tr>\n",
       "    <tr>\n",
       "      <th>3</th>\n",
       "      <td>이름</td>\n",
       "      <td>원화</td>\n",
       "      <td>돈2</td>\n",
       "      <td>철수</td>\n",
       "    </tr>\n",
       "  </tbody>\n",
       "</table>\n",
       "</div>"
      ],
      "text/plain": [
       "  level_0 level_1 level_2      0\n",
       "0      금액      달러      돈1     10\n",
       "1      금액      원화      돈2  11000\n",
       "2      이름      달러      돈1     동민\n",
       "3      이름      원화      돈2     철수"
      ]
     },
     "execution_count": 11,
     "metadata": {},
     "output_type": "execute_result"
    }
   ],
   "source": [
    "sample_lv2.stack().stack().reset_index()"
   ]
  },
  {
   "cell_type": "markdown",
   "metadata": {},
   "source": [
    "* stack을 할때마다 가장 위 열부터 아래로 차례로 내려온다."
   ]
  },
  {
   "cell_type": "markdown",
   "metadata": {},
   "source": [
    "* 이어서.. 스택내부 파라미터부터"
   ]
  },
  {
   "cell_type": "code",
   "execution_count": null,
   "metadata": {},
   "outputs": [],
   "source": []
  }
 ],
 "metadata": {
  "kernelspec": {
   "display_name": "Python 3",
   "language": "python",
   "name": "python3"
  },
  "language_info": {
   "codemirror_mode": {
    "name": "ipython",
    "version": 3
   },
   "file_extension": ".py",
   "mimetype": "text/x-python",
   "name": "python",
   "nbconvert_exporter": "python",
   "pygments_lexer": "ipython3",
   "version": "3.8.3"
  }
 },
 "nbformat": 4,
 "nbformat_minor": 4
}
