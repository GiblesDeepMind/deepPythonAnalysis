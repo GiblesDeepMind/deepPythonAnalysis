{
 "cells": [
  {
   "cell_type": "markdown",
   "metadata": {},
   "source": [
    "# 스프레드시트 연결"
   ]
  },
  {
   "cell_type": "code",
   "execution_count": 38,
   "metadata": {
    "ExecuteTime": {
     "end_time": "2021-01-10T14:28:52.498572Z",
     "start_time": "2021-01-10T14:28:52.494582Z"
    }
   },
   "outputs": [],
   "source": [
    "import gspread\n",
    "from oauth2client.service_account import ServiceAccountCredentials"
   ]
  },
  {
   "cell_type": "code",
   "execution_count": 39,
   "metadata": {
    "ExecuteTime": {
     "end_time": "2021-01-10T14:28:52.855655Z",
     "start_time": "2021-01-10T14:28:52.850647Z"
    }
   },
   "outputs": [],
   "source": [
    "#계정 인증하기\n",
    "\n",
    "scopes = [\n",
    "    'https://www.googleapis.com/auth/spreadsheets',\n",
    "    'https://www.googleapis.com/auth/drive'   \n",
    "]\n",
    "\n",
    "credentials = ServiceAccountCredentials.from_json_keyfile_name(\n",
    "    \"C:/Users/smart-visitor-297915-92441af25327.json\",\n",
    "    scopes=scopes\n",
    ")\n",
    "\n",
    "gc = gspread.authorize(credentials)"
   ]
  },
  {
   "cell_type": "markdown",
   "metadata": {},
   "source": [
    "# 스프레드 시트 불러오기"
   ]
  },
  {
   "cell_type": "code",
   "execution_count": 46,
   "metadata": {
    "ExecuteTime": {
     "end_time": "2021-01-10T15:03:56.878673Z",
     "start_time": "2021-01-10T15:03:54.491041Z"
    }
   },
   "outputs": [
    {
     "name": "stdout",
     "output_type": "stream",
     "text": [
      "[['Hello World']]\n",
      "1 1\n"
     ]
    }
   ],
   "source": [
    "document = gc.open('CheckMe') #문서이름으로 파일 불러오기\n",
    "sheet1 = document.worksheet('시트1')\n",
    "print(sheet1.get_all_values())\n",
    "cell = sheet1.find('Hello World')\n",
    "print(cell.row, cell.col)"
   ]
  },
  {
   "cell_type": "code",
   "execution_count": null,
   "metadata": {},
   "outputs": [],
   "source": [
    "#직전에 사용된 row 번호를 저장한다 "
   ]
  },
  {
   "cell_type": "markdown",
   "metadata": {},
   "source": [
    "# 나를 기록할 수 있는 스프레드 시트 만들기"
   ]
  },
  {
   "cell_type": "code",
   "execution_count": 47,
   "metadata": {
    "ExecuteTime": {
     "end_time": "2021-01-10T15:16:45.291141Z",
     "start_time": "2021-01-10T15:16:45.287173Z"
    }
   },
   "outputs": [],
   "source": [
    "scheme = [\"일자\", \"시간\", \"작업내용\", \"피드백\", \"개선\", \"ss점차 고민해보자.\"]"
   ]
  },
  {
   "cell_type": "markdown",
   "metadata": {},
   "source": [
    "[참조사이트_구글 스프레드시트](https://yurimkoo.github.io/python/2019/07/20/link-with-googlesheets-for-Python.html)\n",
    "\n",
    "[참조사이트_스프레드 시트 활용법1](https://github.com/burnash/gspread)\n",
    "\n",
    "[참조사이트_스프레드 시트 활용법2](https://gspread.readthedocs.io/en/latest/user-guide.html#cell-object)"
   ]
  },
  {
   "cell_type": "markdown",
   "metadata": {},
   "source": [
    "아이디어만 정리\n",
    "\n",
    "1. 스키마 생성\n",
    "2. 어딘가에 Last Cell 저장하기\n",
    "3. 그 셀을 가지고 그 다음 셀에 값을 업데이트 하기"
   ]
  },
  {
   "cell_type": "code",
   "execution_count": null,
   "metadata": {},
   "outputs": [],
   "source": []
  }
 ],
 "metadata": {
  "kernelspec": {
   "display_name": "Python 3",
   "language": "python",
   "name": "python3"
  },
  "language_info": {
   "codemirror_mode": {
    "name": "ipython",
    "version": 3
   },
   "file_extension": ".py",
   "mimetype": "text/x-python",
   "name": "python",
   "nbconvert_exporter": "python",
   "pygments_lexer": "ipython3",
   "version": "3.8.3"
  }
 },
 "nbformat": 4,
 "nbformat_minor": 4
}
